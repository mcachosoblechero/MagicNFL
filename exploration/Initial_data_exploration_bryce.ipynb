{
 "cells": [
  {
   "cell_type": "markdown",
   "metadata": {},
   "source": [
    "# Initial Data Exploration\n",
    "\n",
    "This notebook performs an initial exploration to the data provided for the NFL Kaggle Competition 2023. By examining the data, we detect that the following supporting functions are required:\n",
    "- Function pre-processing player information (i.e. Height is in foots, which is a string)\n",
    "- Function to plot position of players in the field"
   ]
  },
  {
   "cell_type": "code",
   "execution_count": 4,
   "metadata": {},
   "outputs": [],
   "source": [
    "import os\n",
    "import sys\n",
    "import numpy as np\n",
    "import pandas as pd\n",
    "import matplotlib.pyplot as plt\n",
    "import seaborn as sns"
   ]
  },
  {
   "cell_type": "code",
   "execution_count": 5,
   "metadata": {},
   "outputs": [],
   "source": [
    "# Define input parameters\n",
    "input_path = '../input'\n"
   ]
  },
  {
   "cell_type": "code",
   "execution_count": 6,
   "metadata": {},
   "outputs": [
    {
     "name": "stdout",
     "output_type": "stream",
     "text": [
      "         gameId  season  week    gameDate gameTimeEastern homeTeamAbbr  \\\n",
      "0    2021090900    2021     1  09/09/2021        20:20:00           TB   \n",
      "1    2021091200    2021     1  09/12/2021        13:00:00          ATL   \n",
      "2    2021091201    2021     1  09/12/2021        13:00:00          BUF   \n",
      "3    2021091202    2021     1  09/12/2021        13:00:00          CAR   \n",
      "4    2021091203    2021     1  09/12/2021        13:00:00          CIN   \n",
      "..          ...     ...   ...         ...             ...          ...   \n",
      "117  2021103109    2021     8  10/31/2021        16:05:00          SEA   \n",
      "118  2021103110    2021     8  10/31/2021        16:25:00          DEN   \n",
      "119  2021103111    2021     8  10/31/2021        16:25:00           NO   \n",
      "120  2021103112    2021     8  10/31/2021        20:20:00          MIN   \n",
      "121  2021110100    2021     8  11/01/2021        20:15:00           KC   \n",
      "\n",
      "    visitorTeamAbbr  \n",
      "0               DAL  \n",
      "1               PHI  \n",
      "2               PIT  \n",
      "3               NYJ  \n",
      "4               MIN  \n",
      "..              ...  \n",
      "117             JAX  \n",
      "118             WAS  \n",
      "119              TB  \n",
      "120             DAL  \n",
      "121             NYG  \n",
      "\n",
      "[122 rows x 7 columns]\n"
     ]
    }
   ],
   "source": [
    "print(pd.read_csv(os.path.join(input_path, 'games.csv')))"
   ]
  },
  {
   "cell_type": "code",
   "execution_count": 7,
   "metadata": {},
   "outputs": [
    {
     "name": "stdout",
     "output_type": "stream",
     "text": [
      "      nflId height  weight   birthDate collegeName officialPosition  \\\n",
      "0     25511    6-4     225  1977-08-03    Michigan               QB   \n",
      "1     28963    6-5     240  1982-03-02   Miami, O.               QB   \n",
      "2     29550    6-4     328  1982-01-22    Arkansas                T   \n",
      "3     29851    6-2     225  1983-12-02  California               QB   \n",
      "4     30078    6-2     228  1982-11-24     Harvard               QB   \n",
      "...     ...    ...     ...         ...         ...              ...   \n",
      "1674  53991    6-1     320         NaN         NaN               DT   \n",
      "1675  53994    6-5     300         NaN         NaN                C   \n",
      "1676  53999    6-4     312         NaN         NaN               DT   \n",
      "1677  54006    6-6     330         NaN         NaN                T   \n",
      "1678  54038    6-6     245         NaN         NaN               QB   \n",
      "\n",
      "             displayName  \n",
      "0              Tom Brady  \n",
      "1     Ben Roethlisberger  \n",
      "2           Jason Peters  \n",
      "3          Aaron Rodgers  \n",
      "4       Ryan Fitzpatrick  \n",
      "...                  ...  \n",
      "1674     Forrest Merrill  \n",
      "1675       Ryan McCollum  \n",
      "1676         Jack Heflin  \n",
      "1677         Jake Curhan  \n",
      "1678      Feleipe Franks  \n",
      "\n",
      "[1679 rows x 7 columns]\n"
     ]
    }
   ],
   "source": [
    "print(pd.read_csv(os.path.join(input_path, 'players.csv')))"
   ]
  },
  {
   "cell_type": "code",
   "execution_count": 9,
   "metadata": {},
   "outputs": [
    {
     "name": "stdout",
     "output_type": "stream",
     "text": [
      "             gameId  playId    nflId  frameId                     time  \\\n",
      "0        2021090900      97  25511.0        1  2021-09-10T00:26:31.100   \n",
      "1        2021090900      97  25511.0        2  2021-09-10T00:26:31.200   \n",
      "2        2021090900      97  25511.0        3  2021-09-10T00:26:31.300   \n",
      "3        2021090900      97  25511.0        4  2021-09-10T00:26:31.400   \n",
      "4        2021090900      97  25511.0        5  2021-09-10T00:26:31.500   \n",
      "...             ...     ...      ...      ...                      ...   \n",
      "1118117  2021091300    4845      NaN       30  2021-09-14T03:54:20.600   \n",
      "1118118  2021091300    4845      NaN       31  2021-09-14T03:54:20.700   \n",
      "1118119  2021091300    4845      NaN       32  2021-09-14T03:54:20.800   \n",
      "1118120  2021091300    4845      NaN       33  2021-09-14T03:54:20.900   \n",
      "1118121  2021091300    4845      NaN       34  2021-09-14T03:54:21.000   \n",
      "\n",
      "         jerseyNumber      team playDirection      x      y      s     a  \\\n",
      "0                12.0        TB         right  37.77  24.22   0.29  0.30   \n",
      "1                12.0        TB         right  37.78  24.22   0.23  0.11   \n",
      "2                12.0        TB         right  37.78  24.24   0.16  0.10   \n",
      "3                12.0        TB         right  37.73  24.25   0.15  0.24   \n",
      "4                12.0        TB         right  37.69  24.26   0.25  0.18   \n",
      "...               ...       ...           ...    ...    ...    ...   ...   \n",
      "1118117           NaN  football          left  52.78  25.23   3.58  1.95   \n",
      "1118118           NaN  football          left  50.31  26.46  17.16  0.25   \n",
      "1118119           NaN  football          left  48.66  26.99  17.10  1.05   \n",
      "1118120           NaN  football          left  47.04  27.53  16.98  1.67   \n",
      "1118121           NaN  football          left  45.42  28.08  16.89  1.82   \n",
      "\n",
      "          dis       o     dir         event  \n",
      "0        0.03  165.16   84.99          None  \n",
      "1        0.02  164.33   92.87          None  \n",
      "2        0.01  160.24   68.55          None  \n",
      "3        0.06  152.13  296.85          None  \n",
      "4        0.04  148.33  287.55          None  \n",
      "...       ...     ...     ...           ...  \n",
      "1118117  0.37     NaN     NaN  pass_forward  \n",
      "1118118  2.77     NaN     NaN          None  \n",
      "1118119  1.73     NaN     NaN          None  \n",
      "1118120  1.71     NaN     NaN          None  \n",
      "1118121  1.71     NaN     NaN          None  \n",
      "\n",
      "[1118122 rows x 16 columns]\n"
     ]
    }
   ],
   "source": [
    "print(pd.read_csv(os.path.join(input_path, 'week1.csv')))"
   ]
  },
  {
   "cell_type": "code",
   "execution_count": null,
   "metadata": {},
   "outputs": [],
   "source": []
  }
 ],
 "metadata": {
  "kernelspec": {
   "display_name": "Python 3.9.12 ('base')",
   "language": "python",
   "name": "python3"
  },
  "language_info": {
   "codemirror_mode": {
    "name": "ipython",
    "version": 3
   },
   "file_extension": ".py",
   "mimetype": "text/x-python",
   "name": "python",
   "nbconvert_exporter": "python",
   "pygments_lexer": "ipython3",
   "version": "3.9.12"
  },
  "orig_nbformat": 4,
  "vscode": {
   "interpreter": {
    "hash": "f14e33214c462dfa557a3b2d386b6888d5dee1443cb0a6115980b06c43ba1757"
   }
  }
 },
 "nbformat": 4,
 "nbformat_minor": 2
}
