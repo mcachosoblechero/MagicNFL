{
 "cells": [
  {
   "cell_type": "code",
   "execution_count": 1,
   "metadata": {},
   "outputs": [],
   "source": [
    "import os\n",
    "import re\n",
    "import sys\n",
    "import tqdm\n",
    "import numpy as np\n",
    "import pandas as pd\n",
    "import matplotlib\n",
    "import matplotlib.pyplot as plt\n",
    "import matplotlib.animation as animation\n",
    "\n",
    "import random\n",
    "import seaborn as sns\n",
    "\n",
    "# Libraries required for plotting field\n",
    "import matplotlib.patches as patches\n",
    "from matplotlib.patches import Arc\n",
    "from matplotlib import pyplot as plt\n",
    "import matplotlib.patches as mpatches\n",
    "from matplotlib import animation\n",
    "from IPython.display import HTML\n",
    "from IPython import display\n",
    "\n",
    "\n",
    "# Custom libraries\n",
    "sys.path.append('../')\n",
    "from src.utils.feature_extraction import extract_play_outcome_features, extract_formation_features, extract_foul_features, extract_injury_features, extract_game_features\n",
    "from definitions.fouls_def import ignore_fouls\n",
    "from src.utils.viz_functions import drawPitch, drawPocket, animatePlay_Generic, animateScores\n",
    "from src.utils.play_preprocessing import extractPlay, preprocessPlay_refBallInit, preprocessPlay_refQB, preprocessPlay_refQB_NFrames\n",
    "from src.utils.player_influence import extract_play_players_influence, gaussian_player_influence_score\n",
    "from src.utils.field_price_functions import calculate_field_price, gaussian_field_price\n",
    "from src.utils.calculate_score import calculate_score"
   ]
  },
  {
   "cell_type": "code",
   "execution_count": null,
   "metadata": {},
   "outputs": [],
   "source": [
    "plays = pd.read_csv(\"../input/plays.csv\")\n"
   ]
  },
  {
   "cell_type": "code",
   "execution_count": null,
   "metadata": {},
   "outputs": [],
   "source": [
    "random.seed(1225)\n",
    "\n",
    "sample_plays = \\\n",
    "  (plays\n",
    "   .query(\"dropBackType in ['TRADITIONAL', 'SCRAMBLE'] & passResult in ['C', 'I', 'S', 'R'] \")\n",
    "   .groupby(['dropBackType', 'passResult'])\n",
    "   .sample(n=2, replace=True)\n",
    "   .reset_index()\n",
    "   )"
   ]
  },
  {
   "cell_type": "code",
   "execution_count": null,
   "metadata": {},
   "outputs": [],
   "source": [
    "full_df = pd.DataFrame()\n",
    "\n",
    "for file_number in range(1,9):\n",
    "\n",
    "    pos_data = \\\n",
    "        (pd.read_csv(f\"../input/week{file_number}.csv\")\n",
    "        .set_index([\"gameId\", \"playId\"]) \n",
    "        .join(sample_plays.set_index([\"gameId\", \"playId\"]),\n",
    "            how=\"inner\")\n",
    "        ).reset_index()\n",
    "    pos_data['weekId'] = f\"week{file_number}.csv\"\n",
    "\n",
    "    full_df=pd.concat([full_df, pos_data])\n",
    "\n"
   ]
  },
  {
   "cell_type": "code",
   "execution_count": null,
   "metadata": {},
   "outputs": [],
   "source": [
    "(full_df[['weekId', 'gameId', 'playId']]\n",
    "  .groupby(['weekId', 'gameId', 'playId'])\n",
    "  .size()\n",
    "  .reset_index()\n",
    "  .drop(0, axis=1)\n",
    "  .to_csv(\"../input/shorter_plays_for_analysis.csv\", index=False))"
   ]
  },
  {
   "cell_type": "code",
   "execution_count": null,
   "metadata": {},
   "outputs": [],
   "source": []
  }
 ],
 "metadata": {
  "kernelspec": {
   "display_name": "base",
   "language": "python",
   "name": "python3"
  },
  "language_info": {
   "codemirror_mode": {
    "name": "ipython",
    "version": 3
   },
   "file_extension": ".py",
   "mimetype": "text/x-python",
   "name": "python",
   "nbconvert_exporter": "python",
   "pygments_lexer": "ipython3",
   "version": "3.9.12 (main, Apr  4 2022, 05:22:27) [MSC v.1916 64 bit (AMD64)]"
  },
  "orig_nbformat": 4,
  "vscode": {
   "interpreter": {
    "hash": "2b15aef4c9e327d7eee6b7f26ae2bcdf5305439d89536bde4b64f2d7e301ec89"
   }
  }
 },
 "nbformat": 4,
 "nbformat_minor": 2
}
