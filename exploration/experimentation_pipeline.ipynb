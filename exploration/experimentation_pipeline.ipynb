{
 "cells": [
  {
   "attachments": {},
   "cell_type": "markdown",
   "metadata": {},
   "source": [
    "# Experimentation Pipeline\n",
    "\n",
    "This notebook is the definitive experimentation NFL 2022 pipeline, where we will explore how our different tests are doing."
   ]
  },
  {
   "cell_type": "code",
   "execution_count": 1,
   "metadata": {},
   "outputs": [],
   "source": [
    "import os\n",
    "import re\n",
    "import sys\n",
    "import tqdm\n",
    "import numpy as np\n",
    "import pandas as pd\n",
    "import matplotlib\n",
    "import matplotlib.pyplot as plt\n",
    "import matplotlib.animation as animation\n",
    "\n",
    "import random\n",
    "import seaborn as sns\n",
    "\n",
    "# Libraries required for plotting field\n",
    "import matplotlib.patches as patches\n",
    "from matplotlib.patches import Arc\n",
    "from matplotlib import pyplot as plt\n",
    "import matplotlib.patches as mpatches\n",
    "from matplotlib import animation\n",
    "from IPython.display import HTML\n",
    "from IPython import display\n",
    "\n",
    "\n",
    "# Custom libraries\n",
    "sys.path.append('../')\n",
    "from src.utils.feature_extraction import extract_play_outcome_features, extract_formation_features, extract_foul_features, extract_injury_features\n",
    "from definitions.fouls_def import ignore_fouls\n",
    "from src.utils.viz_functions import visualize_play\n",
    "from src.utils.play_preprocessing import extractPlay, preprocessPlay_refBallInit, preprocessPlay_refQB, preprocessPlay_refQB_NFrames\n",
    "from src.utils.player_influence import extract_play_players_influence, gaussian_player_influence_score\n",
    "from src.utils.field_price_functions import calculate_field_price, gaussian_field_price\n",
    "from src.utils.calculate_score import calculate_score\n",
    "from src.utils.full_pipeline import run_full_pipeline"
   ]
  },
  {
   "cell_type": "code",
   "execution_count": 2,
   "metadata": {},
   "outputs": [],
   "source": [
    "# Define input parameters\n",
    "input_path = '../input'\n",
    "preprocessing_path = '../processing'\n",
    "\n",
    "config = {\n",
    "    'hold_QB_ref': 20,\n",
    "    'post_snap_time': 8,\n",
    "    'pocket_len': 30.0,\n",
    "    'pocket_res': 0.1,\n",
    "    'pocket_linear_max_value': 1.0,\n",
    "    'pocket_gaus_mu': 0.0,\n",
    "    'pocket_gaus_sigma': 5.0,\n",
    "    'gaus_mu': 0.0,\n",
    "    'gaus_sigma': 2.0,\n",
    "    'field_price_funct': gaussian_field_price,\n",
    "    'player_infl_funct': gaussian_player_influence_score\n",
    "}"
   ]
  },
  {
   "attachments": {},
   "cell_type": "markdown",
   "metadata": {},
   "source": [
    "# 1. Run Full Pipeline"
   ]
  },
  {
   "cell_type": "code",
   "execution_count": null,
   "metadata": {},
   "outputs": [],
   "source": [
    "run_full_pipeline(input_path, preprocessing_path, config)"
   ]
  }
 ],
 "metadata": {
  "kernelspec": {
   "display_name": "NFL",
   "language": "python",
   "name": "python3"
  },
  "language_info": {
   "codemirror_mode": {
    "name": "ipython",
    "version": 3
   },
   "file_extension": ".py",
   "mimetype": "text/x-python",
   "name": "python",
   "nbconvert_exporter": "python",
   "pygments_lexer": "ipython3",
   "version": "3.8.13"
  },
  "orig_nbformat": 4,
  "vscode": {
   "interpreter": {
    "hash": "05f0d2e1fc74ebc93b22a430eb11bc21cf56dd15750efd372fff02c9f9563d7f"
   }
  }
 },
 "nbformat": 4,
 "nbformat_minor": 2
}
