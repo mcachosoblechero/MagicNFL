{
 "cells": [
  {
   "cell_type": "code",
   "execution_count": 60,
   "metadata": {},
   "outputs": [],
   "source": [
    "### Use \"git rebase -i master\" when/if the previous branch gets merged\n",
    "\n",
    "import numpy as np\n",
    "import pandas as pd\n",
    "import sys\n",
    "import math\n",
    "import os\n",
    "\n",
    "sys.path.insert(0, \"c:\\\\Users\\\\Bryce Turner\\\\Documents\\\\GitHub\\\\MagicNFL\\\\src\\\\main\")\n",
    "from __init__ import *\n",
    "os.chdir(\"../\")"
   ]
  },
  {
   "cell_type": "code",
   "execution_count": 61,
   "metadata": {},
   "outputs": [
    {
     "data": {
      "text/plain": [
       "(1.5, 1.5)"
      ]
     },
     "execution_count": 61,
     "metadata": {},
     "output_type": "execute_result"
    }
   ],
   "source": []
  },
  {
   "cell_type": "code",
   "execution_count": null,
   "metadata": {},
   "outputs": [],
   "source": [
    "# Things we'll need\n",
    "# way to convert from \"yardline and team-side\" to x,y coordinates\n",
    "#  -> OR is it better to define the ball usign the Center? "
   ]
  },
  {
   "cell_type": "code",
   "execution_count": 13,
   "metadata": {},
   "outputs": [],
   "source": [
    "using_data = (\n",
    "    pd.read_csv(\"input/week1.csv\")\n",
    "    .query(\"gameId==2021090900\")\n",
    ")\n",
    "\n",
    "using_data.head()\n",
    "\n",
    "players_data = (\n",
    "    pd.read_csv(\"input/players.csv\")\n",
    ")\n",
    "\n"
   ]
  },
  {
   "cell_type": "code",
   "execution_count": 105,
   "metadata": {},
   "outputs": [
    {
     "data": {
      "text/html": [
       "<div>\n",
       "<style scoped>\n",
       "    .dataframe tbody tr th:only-of-type {\n",
       "        vertical-align: middle;\n",
       "    }\n",
       "\n",
       "    .dataframe tbody tr th {\n",
       "        vertical-align: top;\n",
       "    }\n",
       "\n",
       "    .dataframe thead th {\n",
       "        text-align: right;\n",
       "    }\n",
       "</style>\n",
       "<table border=\"1\" class=\"dataframe\">\n",
       "  <thead>\n",
       "    <tr style=\"text-align: right;\">\n",
       "      <th></th>\n",
       "      <th>gameId</th>\n",
       "      <th>playId</th>\n",
       "      <th>nflId</th>\n",
       "      <th>frameId</th>\n",
       "      <th>time</th>\n",
       "      <th>jerseyNumber</th>\n",
       "      <th>team</th>\n",
       "      <th>playDirection</th>\n",
       "      <th>x</th>\n",
       "      <th>y</th>\n",
       "      <th>s</th>\n",
       "      <th>a</th>\n",
       "      <th>dis</th>\n",
       "      <th>o</th>\n",
       "      <th>dir</th>\n",
       "      <th>event</th>\n",
       "      <th>football_starting_square</th>\n",
       "    </tr>\n",
       "  </thead>\n",
       "  <tbody>\n",
       "    <tr>\n",
       "      <th>0</th>\n",
       "      <td>2021090900</td>\n",
       "      <td>97</td>\n",
       "      <td>25511.0</td>\n",
       "      <td>1</td>\n",
       "      <td>2021-09-10T00:26:31.100</td>\n",
       "      <td>12.0</td>\n",
       "      <td>TB</td>\n",
       "      <td>right</td>\n",
       "      <td>37.77</td>\n",
       "      <td>24.22</td>\n",
       "      <td>0.29</td>\n",
       "      <td>0.30</td>\n",
       "      <td>0.03</td>\n",
       "      <td>165.16</td>\n",
       "      <td>84.99</td>\n",
       "      <td>None</td>\n",
       "      <td>NaN</td>\n",
       "    </tr>\n",
       "    <tr>\n",
       "      <th>1</th>\n",
       "      <td>2021090900</td>\n",
       "      <td>97</td>\n",
       "      <td>25511.0</td>\n",
       "      <td>2</td>\n",
       "      <td>2021-09-10T00:26:31.200</td>\n",
       "      <td>12.0</td>\n",
       "      <td>TB</td>\n",
       "      <td>right</td>\n",
       "      <td>37.78</td>\n",
       "      <td>24.22</td>\n",
       "      <td>0.23</td>\n",
       "      <td>0.11</td>\n",
       "      <td>0.02</td>\n",
       "      <td>164.33</td>\n",
       "      <td>92.87</td>\n",
       "      <td>None</td>\n",
       "      <td>NaN</td>\n",
       "    </tr>\n",
       "    <tr>\n",
       "      <th>2</th>\n",
       "      <td>2021090900</td>\n",
       "      <td>97</td>\n",
       "      <td>25511.0</td>\n",
       "      <td>3</td>\n",
       "      <td>2021-09-10T00:26:31.300</td>\n",
       "      <td>12.0</td>\n",
       "      <td>TB</td>\n",
       "      <td>right</td>\n",
       "      <td>37.78</td>\n",
       "      <td>24.24</td>\n",
       "      <td>0.16</td>\n",
       "      <td>0.10</td>\n",
       "      <td>0.01</td>\n",
       "      <td>160.24</td>\n",
       "      <td>68.55</td>\n",
       "      <td>None</td>\n",
       "      <td>NaN</td>\n",
       "    </tr>\n",
       "    <tr>\n",
       "      <th>3</th>\n",
       "      <td>2021090900</td>\n",
       "      <td>97</td>\n",
       "      <td>25511.0</td>\n",
       "      <td>4</td>\n",
       "      <td>2021-09-10T00:26:31.400</td>\n",
       "      <td>12.0</td>\n",
       "      <td>TB</td>\n",
       "      <td>right</td>\n",
       "      <td>37.73</td>\n",
       "      <td>24.25</td>\n",
       "      <td>0.15</td>\n",
       "      <td>0.24</td>\n",
       "      <td>0.06</td>\n",
       "      <td>152.13</td>\n",
       "      <td>296.85</td>\n",
       "      <td>None</td>\n",
       "      <td>NaN</td>\n",
       "    </tr>\n",
       "  </tbody>\n",
       "</table>\n",
       "</div>"
      ],
      "text/plain": [
       "       gameId  playId    nflId  frameId                     time  \\\n",
       "0  2021090900      97  25511.0        1  2021-09-10T00:26:31.100   \n",
       "1  2021090900      97  25511.0        2  2021-09-10T00:26:31.200   \n",
       "2  2021090900      97  25511.0        3  2021-09-10T00:26:31.300   \n",
       "3  2021090900      97  25511.0        4  2021-09-10T00:26:31.400   \n",
       "\n",
       "   jerseyNumber team playDirection      x      y     s     a   dis       o  \\\n",
       "0          12.0   TB         right  37.77  24.22  0.29  0.30  0.03  165.16   \n",
       "1          12.0   TB         right  37.78  24.22  0.23  0.11  0.02  164.33   \n",
       "2          12.0   TB         right  37.78  24.24  0.16  0.10  0.01  160.24   \n",
       "3          12.0   TB         right  37.73  24.25  0.15  0.24  0.06  152.13   \n",
       "\n",
       "      dir event football_starting_square  \n",
       "0   84.99  None                      NaN  \n",
       "1   92.87  None                      NaN  \n",
       "2   68.55  None                      NaN  \n",
       "3  296.85  None                      NaN  "
      ]
     },
     "execution_count": 105,
     "metadata": {},
     "output_type": "execute_result"
    }
   ],
   "source": [
    "using_data.head(4)"
   ]
  },
  {
   "cell_type": "code",
   "execution_count": 143,
   "metadata": {},
   "outputs": [
    {
     "data": {
      "text/plain": [
       "(33.0, 15.0)"
      ]
     },
     "execution_count": 143,
     "metadata": {},
     "output_type": "execute_result"
    }
   ],
   "source": [
    "## Arbitrary Inputs. Will need to be validated later\n",
    "side_length=1\n",
    "pocket_depth=10 #x_value, measured in yards --- currently, this goes 10 yards IN BOTH DIRECTIONS(i.e. down field)\n",
    "pocket_width=10 #y_value, measured in yards\n",
    "\n",
    "football_starting_square = \\\n",
    "    (using_data[(using_data.team==\"football\") \n",
    "                & (using_data.frameId==1)]\n",
    "    .apply(lambda center: find_center_of_square_containing((center[\"x\"], center[\"y\"]), side_length), axis=1)\n",
    "    )\n",
    "\n",
    "xlims = [(center[0]-pocket_depth, center[0]+pocket_depth) for center in football_starting_square]\n",
    "ylims = [(center[1]-pocket_depth, center[1]+pocket_depth) for center in football_starting_square]\n",
    "\n",
    "play_pockets=[]\n",
    "for x, y in zip(xlims, ylims):\n",
    "    tmp = football_field(x, y, side_length)\n",
    "    tmp.set_field_squares()\n",
    "    play_pockets.append(tmp)\n",
    "\n",
    "center\n",
    "play_pockets[0].field_squares[0]"
   ]
  },
  {
   "cell_type": "code",
   "execution_count": 179,
   "metadata": {},
   "outputs": [],
   "source": [
    "class play_pocket(football_field):\n",
    "\n",
    "    def __init__(self, football_starting_coordinates, offense_direction, gameId, playId, side_length):\n",
    "        \n",
    "        if type(football_starting_coordinates) is not tuple:\n",
    "            raise TypeError(\"football_starting_coordinates must be a tuple of the form (x,y)\")\n",
    "            \n",
    "        if offense_direction not in [\"left\", \"right\"]:\n",
    "            raise ValueError(\"offensive direction must be either 'left' or 'right'\")\n",
    "\n",
    "        self.football_coordinates=football_starting_coordinates\n",
    "        self.offense_direction=offense_direction.lower()\n",
    "        self.gameId=gameId\n",
    "        self.playId=playId\n",
    "        self.side_length=side_length\n",
    "    \n",
    "    def set_pocket_square_senter(self):\n",
    "        self.pocket_square_center=find_center_of_square_containing(self.football_starting_coordinates, side_length)\n",
    "    \n",
    "\n",
    "    \n",
    "\n",
    "        "
   ]
  },
  {
   "cell_type": "code",
   "execution_count": 182,
   "metadata": {},
   "outputs": [
    {
     "data": {
      "text/plain": [
       "'left'"
      ]
     },
     "execution_count": 182,
     "metadata": {},
     "output_type": "execute_result"
    }
   ],
   "source": [
    "tmp = play_pocket((4, 25), \"left\", 1, 97, 1)\n",
    "tmp.offense_direction"
   ]
  },
  {
   "cell_type": "code",
   "execution_count": 175,
   "metadata": {},
   "outputs": [
    {
     "ename": "ValueError",
     "evalue": "offensive direction must be either 'left' or 'right'",
     "output_type": "error",
     "traceback": [
      "\u001b[1;31m---------------------------------------------------------------------------\u001b[0m",
      "\u001b[1;31mValueError\u001b[0m                                Traceback (most recent call last)",
      "\u001b[1;32mc:\\Users\\Bryce Turner\\Documents\\GitHub\\MagicNFL\\exploration\\football_field_implementation.ipynb Cell 9\u001b[0m in \u001b[0;36m<cell line: 1>\u001b[1;34m()\u001b[0m\n\u001b[0;32m      <a href='vscode-notebook-cell:/c%3A/Users/Bryce%20Turner/Documents/GitHub/MagicNFL/exploration/football_field_implementation.ipynb#X16sZmlsZQ%3D%3D?line=0'>1</a>\u001b[0m \u001b[39mif\u001b[39;00m \u001b[39m\"\u001b[39m\u001b[39mbr\u001b[39m\u001b[39m\"\u001b[39m \u001b[39mnot\u001b[39;00m \u001b[39min\u001b[39;00m [\u001b[39m\"\u001b[39m\u001b[39mleft\u001b[39m\u001b[39m\"\u001b[39m, \u001b[39m\"\u001b[39m\u001b[39mright\u001b[39m\u001b[39m\"\u001b[39m]:\n\u001b[1;32m----> <a href='vscode-notebook-cell:/c%3A/Users/Bryce%20Turner/Documents/GitHub/MagicNFL/exploration/football_field_implementation.ipynb#X16sZmlsZQ%3D%3D?line=1'>2</a>\u001b[0m     \u001b[39mraise\u001b[39;00m \u001b[39mValueError\u001b[39;00m(\u001b[39m\"\u001b[39m\u001b[39moffensive direction must be either \u001b[39m\u001b[39m'\u001b[39m\u001b[39mleft\u001b[39m\u001b[39m'\u001b[39m\u001b[39m or \u001b[39m\u001b[39m'\u001b[39m\u001b[39mright\u001b[39m\u001b[39m'\u001b[39m\u001b[39m\"\u001b[39m)\n",
      "\u001b[1;31mValueError\u001b[0m: offensive direction must be either 'left' or 'right'"
     ]
    }
   ],
   "source": [
    "if \"br\" not in [\"left\", \"right\"]:\n",
    "    raise ValueError(\"offensive direction must be either 'left' or 'right'\")"
   ]
  },
  {
   "cell_type": "code",
   "execution_count": null,
   "metadata": {},
   "outputs": [],
   "source": []
  }
 ],
 "metadata": {
  "kernelspec": {
   "display_name": "Python 3.9.12 ('base')",
   "language": "python",
   "name": "python3"
  },
  "language_info": {
   "codemirror_mode": {
    "name": "ipython",
    "version": 3
   },
   "file_extension": ".py",
   "mimetype": "text/x-python",
   "name": "python",
   "nbconvert_exporter": "python",
   "pygments_lexer": "ipython3",
   "version": "3.9.12"
  },
  "orig_nbformat": 4,
  "vscode": {
   "interpreter": {
    "hash": "2b15aef4c9e327d7eee6b7f26ae2bcdf5305439d89536bde4b64f2d7e301ec89"
   }
  }
 },
 "nbformat": 4,
 "nbformat_minor": 2
}
