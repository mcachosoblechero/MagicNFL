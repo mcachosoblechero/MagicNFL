{
 "cells": [
  {
   "cell_type": "code",
   "execution_count": 40,
   "metadata": {},
   "outputs": [],
   "source": [
    "### Use \"git rebase -i master\" when/if the previous branch gets merged\n",
    "\n",
    "import numpy as np\n",
    "import pandas as pd\n",
    "import sys\n",
    "import math\n",
    "import os\n",
    "\n",
    "sys.path.insert(0, \"c:\\\\Users\\\\Bryce Turner\\\\Documents\\\\GitHub\\\\MagicNFL\\\\src\\\\main\")\n",
    "\n",
    "os.chdir(\"../\")"
   ]
  },
  {
   "cell_type": "code",
   "execution_count": null,
   "metadata": {},
   "outputs": [],
   "source": [
    "# Things we'll need\n",
    "# way to convert from \"yardline and team-side\" to x,y coordinates\n",
    "#  -> OR is it better to define the ball usign the Center? "
   ]
  },
  {
   "cell_type": "code",
   "execution_count": 13,
   "metadata": {},
   "outputs": [],
   "source": [
    "using_data = (\n",
    "    pd.read_csv(\"input/week1.csv\")\n",
    "    .query(\"gameId==2021090900\")\n",
    ")\n",
    "\n",
    "using_data.head()\n",
    "\n",
    "players_data = (\n",
    "    pd.read_csv(\"input/players.csv\")\n",
    ")\n",
    "\n"
   ]
  },
  {
   "cell_type": "code",
   "execution_count": 52,
   "metadata": {},
   "outputs": [],
   "source": [
    "def find_center_of_square_containing(point, side_length):\n",
    "    #going to use math.floor to find the lowest x,y value\n",
    "    # to make this work for side_length of arbitrary length (i.e. non-integer), \n",
    "    # need to manipulate the value b/c math.floor will only return an integer\n",
    "    divisor=1/side_length\n",
    "    x_low=math.floor(point[0]*divisor)/divisor\n",
    "    y_low=math.floor(point[1]*divisor)/divisor\n",
    "    \n",
    "    center=(x_low+side_length/2,\n",
    "            y_low+side_length/2)\n",
    "\n",
    "    return center"
   ]
  },
  {
   "cell_type": "code",
   "execution_count": 58,
   "metadata": {},
   "outputs": [
    {
     "data": {
      "text/plain": [
       "(0.25, 4.75)"
      ]
     },
     "execution_count": 58,
     "metadata": {},
     "output_type": "execute_result"
    }
   ],
   "source": [
    "find_center_of_square_containing((0,4.6), 0.5)"
   ]
  },
  {
   "cell_type": "code",
   "execution_count": 37,
   "metadata": {},
   "outputs": [
    {
     "data": {
      "text/plain": [
       "2.0"
      ]
     },
     "execution_count": 37,
     "metadata": {},
     "output_type": "execute_result"
    }
   ],
   "source": [
    "1/0.5"
   ]
  },
  {
   "cell_type": "code",
   "execution_count": 24,
   "metadata": {},
   "outputs": [
    {
     "data": {
      "text/html": [
       "<div>\n",
       "<style scoped>\n",
       "    .dataframe tbody tr th:only-of-type {\n",
       "        vertical-align: middle;\n",
       "    }\n",
       "\n",
       "    .dataframe tbody tr th {\n",
       "        vertical-align: top;\n",
       "    }\n",
       "\n",
       "    .dataframe thead th {\n",
       "        text-align: right;\n",
       "    }\n",
       "</style>\n",
       "<table border=\"1\" class=\"dataframe\">\n",
       "  <thead>\n",
       "    <tr style=\"text-align: right;\">\n",
       "      <th></th>\n",
       "      <th>x</th>\n",
       "      <th>y</th>\n",
       "    </tr>\n",
       "  </thead>\n",
       "  <tbody>\n",
       "    <tr>\n",
       "      <th>946</th>\n",
       "      <td>42.92</td>\n",
       "      <td>24.04</td>\n",
       "    </tr>\n",
       "    <tr>\n",
       "      <th>1803</th>\n",
       "      <td>108.06</td>\n",
       "      <td>23.50</td>\n",
       "    </tr>\n",
       "    <tr>\n",
       "      <th>2522</th>\n",
       "      <td>76.47</td>\n",
       "      <td>26.46</td>\n",
       "    </tr>\n",
       "    <tr>\n",
       "      <th>3499</th>\n",
       "      <td>49.20</td>\n",
       "      <td>29.91</td>\n",
       "    </tr>\n",
       "    <tr>\n",
       "      <th>4356</th>\n",
       "      <td>54.15</td>\n",
       "      <td>29.91</td>\n",
       "    </tr>\n",
       "    <tr>\n",
       "      <th>...</th>\n",
       "      <td>...</td>\n",
       "      <td>...</td>\n",
       "    </tr>\n",
       "    <tr>\n",
       "      <th>89568</th>\n",
       "      <td>68.31</td>\n",
       "      <td>23.94</td>\n",
       "    </tr>\n",
       "    <tr>\n",
       "      <th>90444</th>\n",
       "      <td>68.00</td>\n",
       "      <td>23.97</td>\n",
       "    </tr>\n",
       "    <tr>\n",
       "      <th>91142</th>\n",
       "      <td>91.95</td>\n",
       "      <td>29.72</td>\n",
       "    </tr>\n",
       "    <tr>\n",
       "      <th>91942</th>\n",
       "      <td>92.02</td>\n",
       "      <td>29.96</td>\n",
       "    </tr>\n",
       "    <tr>\n",
       "      <th>92615</th>\n",
       "      <td>92.34</td>\n",
       "      <td>29.83</td>\n",
       "    </tr>\n",
       "  </tbody>\n",
       "</table>\n",
       "<p>97 rows × 2 columns</p>\n",
       "</div>"
      ],
      "text/plain": [
       "            x      y\n",
       "946     42.92  24.04\n",
       "1803   108.06  23.50\n",
       "2522    76.47  26.46\n",
       "3499    49.20  29.91\n",
       "4356    54.15  29.91\n",
       "...       ...    ...\n",
       "89568   68.31  23.94\n",
       "90444   68.00  23.97\n",
       "91142   91.95  29.72\n",
       "91942   92.02  29.96\n",
       "92615   92.34  29.83\n",
       "\n",
       "[97 rows x 2 columns]"
      ]
     },
     "execution_count": 24,
     "metadata": {},
     "output_type": "execute_result"
    }
   ],
   "source": [
    "using_data[(using_data.team==\"football\") & (using_data.frameId==1)][['x','y']]\n"
   ]
  },
  {
   "cell_type": "code",
   "execution_count": null,
   "metadata": {},
   "outputs": [],
   "source": []
  }
 ],
 "metadata": {
  "kernelspec": {
   "display_name": "Python 3.9.12 ('base')",
   "language": "python",
   "name": "python3"
  },
  "language_info": {
   "codemirror_mode": {
    "name": "ipython",
    "version": 3
   },
   "file_extension": ".py",
   "mimetype": "text/x-python",
   "name": "python",
   "nbconvert_exporter": "python",
   "pygments_lexer": "ipython3",
   "version": "3.9.12"
  },
  "orig_nbformat": 4,
  "vscode": {
   "interpreter": {
    "hash": "2b15aef4c9e327d7eee6b7f26ae2bcdf5305439d89536bde4b64f2d7e301ec89"
   }
  }
 },
 "nbformat": 4,
 "nbformat_minor": 2
}
